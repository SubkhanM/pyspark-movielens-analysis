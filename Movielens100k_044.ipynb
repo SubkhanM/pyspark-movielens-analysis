{
  "cells": [
    {
      "cell_type": "markdown",
      "metadata": {
        "id": "9W2Nnzg8Q2E6"
      },
      "source": [
        "# **Tugas Analisis PySpark (case movielens dataset)**\n",
        "\n",
        "## **Anggota Kelompok:**\n",
        "1.   Subkhan Masudi (5027221044)"
      ]
    },
    {
      "cell_type": "code",
      "execution_count": 1,
      "metadata": {
        "colab": {
          "base_uri": "https://localhost:8080/"
        },
        "id": "J7076ecqQ3Eq",
        "outputId": "76783115-4714-4fd8-c80a-1f1c18bbaf88"
      },
      "outputs": [
        {
          "name": "stdout",
          "output_type": "stream",
          "text": [
            "Requirement already satisfied: findspark in c:\\users\\akutu\\appdata\\local\\programs\\python\\python310\\lib\\site-packages (2.0.1)\n"
          ]
        },
        {
          "name": "stderr",
          "output_type": "stream",
          "text": [
            "WARNING: You are using pip version 22.0.4; however, version 24.2 is available.\n",
            "You should consider upgrading via the 'C:\\Users\\akutu\\AppData\\Local\\Programs\\Python\\Python310\\python.exe -m pip install --upgrade pip' command.\n"
          ]
        },
        {
          "name": "stdout",
          "output_type": "stream",
          "text": [
            "Requirement already satisfied: pyspark in c:\\users\\akutu\\appdata\\local\\programs\\python\\python310\\lib\\site-packages (3.5.3)\n",
            "Requirement already satisfied: py4j==0.10.9.7 in c:\\users\\akutu\\appdata\\local\\programs\\python\\python310\\lib\\site-packages (from pyspark) (0.10.9.7)\n"
          ]
        },
        {
          "name": "stderr",
          "output_type": "stream",
          "text": [
            "WARNING: You are using pip version 22.0.4; however, version 24.2 is available.\n",
            "You should consider upgrading via the 'C:\\Users\\akutu\\AppData\\Local\\Programs\\Python\\Python310\\python.exe -m pip install --upgrade pip' command.\n"
          ]
        },
        {
          "ename": "PySparkRuntimeError",
          "evalue": "[JAVA_GATEWAY_EXITED] Java gateway process exited before sending its port number.",
          "output_type": "error",
          "traceback": [
            "\u001b[1;31m---------------------------------------------------------------------------\u001b[0m",
            "\u001b[1;31mPySparkRuntimeError\u001b[0m                       Traceback (most recent call last)",
            "Cell \u001b[1;32mIn[1], line 10\u001b[0m\n\u001b[0;32m      7\u001b[0m \u001b[38;5;66;03m# Creating a SparkSession: A SparkSession is the entry point for using the PySpark DataFrame and SQL API.\u001b[39;00m\n\u001b[0;32m      8\u001b[0m \u001b[38;5;66;03m# To create a SparkSession, use the following code\u001b[39;00m\n\u001b[0;32m      9\u001b[0m \u001b[38;5;28;01mfrom\u001b[39;00m \u001b[38;5;21;01mpyspark\u001b[39;00m\u001b[38;5;21;01m.\u001b[39;00m\u001b[38;5;21;01msql\u001b[39;00m \u001b[38;5;28;01mimport\u001b[39;00m SparkSession\n\u001b[1;32m---> 10\u001b[0m spark \u001b[38;5;241m=\u001b[39m \u001b[43mSparkSession\u001b[49m\u001b[38;5;241;43m.\u001b[39;49m\u001b[43mbuilder\u001b[49m\u001b[38;5;241;43m.\u001b[39;49m\u001b[43mappName\u001b[49m\u001b[43m(\u001b[49m\u001b[38;5;124;43m\"\u001b[39;49m\u001b[38;5;124;43mPySpark 101 Exercises\u001b[39;49m\u001b[38;5;124;43m\"\u001b[39;49m\u001b[43m)\u001b[49m\u001b[38;5;241;43m.\u001b[39;49m\u001b[43mgetOrCreate\u001b[49m\u001b[43m(\u001b[49m\u001b[43m)\u001b[49m\n\u001b[0;32m     12\u001b[0m \u001b[38;5;66;03m# Get version details\u001b[39;00m\n\u001b[0;32m     13\u001b[0m \u001b[38;5;28mprint\u001b[39m(spark\u001b[38;5;241m.\u001b[39mversion)\n",
            "File \u001b[1;32mc:\\Users\\akutu\\AppData\\Local\\Programs\\Python\\Python310\\lib\\site-packages\\pyspark\\sql\\session.py:497\u001b[0m, in \u001b[0;36mSparkSession.Builder.getOrCreate\u001b[1;34m(self)\u001b[0m\n\u001b[0;32m    495\u001b[0m     sparkConf\u001b[38;5;241m.\u001b[39mset(key, value)\n\u001b[0;32m    496\u001b[0m \u001b[38;5;66;03m# This SparkContext may be an existing one.\u001b[39;00m\n\u001b[1;32m--> 497\u001b[0m sc \u001b[38;5;241m=\u001b[39m \u001b[43mSparkContext\u001b[49m\u001b[38;5;241;43m.\u001b[39;49m\u001b[43mgetOrCreate\u001b[49m\u001b[43m(\u001b[49m\u001b[43msparkConf\u001b[49m\u001b[43m)\u001b[49m\n\u001b[0;32m    498\u001b[0m \u001b[38;5;66;03m# Do not update `SparkConf` for existing `SparkContext`, as it's shared\u001b[39;00m\n\u001b[0;32m    499\u001b[0m \u001b[38;5;66;03m# by all sessions.\u001b[39;00m\n\u001b[0;32m    500\u001b[0m session \u001b[38;5;241m=\u001b[39m SparkSession(sc, options\u001b[38;5;241m=\u001b[39m\u001b[38;5;28mself\u001b[39m\u001b[38;5;241m.\u001b[39m_options)\n",
            "File \u001b[1;32mc:\\Users\\akutu\\AppData\\Local\\Programs\\Python\\Python310\\lib\\site-packages\\pyspark\\context.py:515\u001b[0m, in \u001b[0;36mSparkContext.getOrCreate\u001b[1;34m(cls, conf)\u001b[0m\n\u001b[0;32m    513\u001b[0m \u001b[38;5;28;01mwith\u001b[39;00m SparkContext\u001b[38;5;241m.\u001b[39m_lock:\n\u001b[0;32m    514\u001b[0m     \u001b[38;5;28;01mif\u001b[39;00m SparkContext\u001b[38;5;241m.\u001b[39m_active_spark_context \u001b[38;5;129;01mis\u001b[39;00m \u001b[38;5;28;01mNone\u001b[39;00m:\n\u001b[1;32m--> 515\u001b[0m         \u001b[43mSparkContext\u001b[49m\u001b[43m(\u001b[49m\u001b[43mconf\u001b[49m\u001b[38;5;241;43m=\u001b[39;49m\u001b[43mconf\u001b[49m\u001b[43m \u001b[49m\u001b[38;5;129;43;01mor\u001b[39;49;00m\u001b[43m \u001b[49m\u001b[43mSparkConf\u001b[49m\u001b[43m(\u001b[49m\u001b[43m)\u001b[49m\u001b[43m)\u001b[49m\n\u001b[0;32m    516\u001b[0m     \u001b[38;5;28;01massert\u001b[39;00m SparkContext\u001b[38;5;241m.\u001b[39m_active_spark_context \u001b[38;5;129;01mis\u001b[39;00m \u001b[38;5;129;01mnot\u001b[39;00m \u001b[38;5;28;01mNone\u001b[39;00m\n\u001b[0;32m    517\u001b[0m     \u001b[38;5;28;01mreturn\u001b[39;00m SparkContext\u001b[38;5;241m.\u001b[39m_active_spark_context\n",
            "File \u001b[1;32mc:\\Users\\akutu\\AppData\\Local\\Programs\\Python\\Python310\\lib\\site-packages\\pyspark\\context.py:201\u001b[0m, in \u001b[0;36mSparkContext.__init__\u001b[1;34m(self, master, appName, sparkHome, pyFiles, environment, batchSize, serializer, conf, gateway, jsc, profiler_cls, udf_profiler_cls, memory_profiler_cls)\u001b[0m\n\u001b[0;32m    195\u001b[0m \u001b[38;5;28;01mif\u001b[39;00m gateway \u001b[38;5;129;01mis\u001b[39;00m \u001b[38;5;129;01mnot\u001b[39;00m \u001b[38;5;28;01mNone\u001b[39;00m \u001b[38;5;129;01mand\u001b[39;00m gateway\u001b[38;5;241m.\u001b[39mgateway_parameters\u001b[38;5;241m.\u001b[39mauth_token \u001b[38;5;129;01mis\u001b[39;00m \u001b[38;5;28;01mNone\u001b[39;00m:\n\u001b[0;32m    196\u001b[0m     \u001b[38;5;28;01mraise\u001b[39;00m \u001b[38;5;167;01mValueError\u001b[39;00m(\n\u001b[0;32m    197\u001b[0m         \u001b[38;5;124m\"\u001b[39m\u001b[38;5;124mYou are trying to pass an insecure Py4j gateway to Spark. This\u001b[39m\u001b[38;5;124m\"\u001b[39m\n\u001b[0;32m    198\u001b[0m         \u001b[38;5;124m\"\u001b[39m\u001b[38;5;124m is not allowed as it is a security risk.\u001b[39m\u001b[38;5;124m\"\u001b[39m\n\u001b[0;32m    199\u001b[0m     )\n\u001b[1;32m--> 201\u001b[0m \u001b[43mSparkContext\u001b[49m\u001b[38;5;241;43m.\u001b[39;49m\u001b[43m_ensure_initialized\u001b[49m\u001b[43m(\u001b[49m\u001b[38;5;28;43mself\u001b[39;49m\u001b[43m,\u001b[49m\u001b[43m \u001b[49m\u001b[43mgateway\u001b[49m\u001b[38;5;241;43m=\u001b[39;49m\u001b[43mgateway\u001b[49m\u001b[43m,\u001b[49m\u001b[43m \u001b[49m\u001b[43mconf\u001b[49m\u001b[38;5;241;43m=\u001b[39;49m\u001b[43mconf\u001b[49m\u001b[43m)\u001b[49m\n\u001b[0;32m    202\u001b[0m \u001b[38;5;28;01mtry\u001b[39;00m:\n\u001b[0;32m    203\u001b[0m     \u001b[38;5;28mself\u001b[39m\u001b[38;5;241m.\u001b[39m_do_init(\n\u001b[0;32m    204\u001b[0m         master,\n\u001b[0;32m    205\u001b[0m         appName,\n\u001b[1;32m   (...)\u001b[0m\n\u001b[0;32m    215\u001b[0m         memory_profiler_cls,\n\u001b[0;32m    216\u001b[0m     )\n",
            "File \u001b[1;32mc:\\Users\\akutu\\AppData\\Local\\Programs\\Python\\Python310\\lib\\site-packages\\pyspark\\context.py:436\u001b[0m, in \u001b[0;36mSparkContext._ensure_initialized\u001b[1;34m(cls, instance, gateway, conf)\u001b[0m\n\u001b[0;32m    434\u001b[0m \u001b[38;5;28;01mwith\u001b[39;00m SparkContext\u001b[38;5;241m.\u001b[39m_lock:\n\u001b[0;32m    435\u001b[0m     \u001b[38;5;28;01mif\u001b[39;00m \u001b[38;5;129;01mnot\u001b[39;00m SparkContext\u001b[38;5;241m.\u001b[39m_gateway:\n\u001b[1;32m--> 436\u001b[0m         SparkContext\u001b[38;5;241m.\u001b[39m_gateway \u001b[38;5;241m=\u001b[39m gateway \u001b[38;5;129;01mor\u001b[39;00m \u001b[43mlaunch_gateway\u001b[49m\u001b[43m(\u001b[49m\u001b[43mconf\u001b[49m\u001b[43m)\u001b[49m\n\u001b[0;32m    437\u001b[0m         SparkContext\u001b[38;5;241m.\u001b[39m_jvm \u001b[38;5;241m=\u001b[39m SparkContext\u001b[38;5;241m.\u001b[39m_gateway\u001b[38;5;241m.\u001b[39mjvm\n\u001b[0;32m    439\u001b[0m     \u001b[38;5;28;01mif\u001b[39;00m instance:\n",
            "File \u001b[1;32mc:\\Users\\akutu\\AppData\\Local\\Programs\\Python\\Python310\\lib\\site-packages\\pyspark\\java_gateway.py:107\u001b[0m, in \u001b[0;36mlaunch_gateway\u001b[1;34m(conf, popen_kwargs)\u001b[0m\n\u001b[0;32m    104\u001b[0m     time\u001b[38;5;241m.\u001b[39msleep(\u001b[38;5;241m0.1\u001b[39m)\n\u001b[0;32m    106\u001b[0m \u001b[38;5;28;01mif\u001b[39;00m \u001b[38;5;129;01mnot\u001b[39;00m os\u001b[38;5;241m.\u001b[39mpath\u001b[38;5;241m.\u001b[39misfile(conn_info_file):\n\u001b[1;32m--> 107\u001b[0m     \u001b[38;5;28;01mraise\u001b[39;00m PySparkRuntimeError(\n\u001b[0;32m    108\u001b[0m         error_class\u001b[38;5;241m=\u001b[39m\u001b[38;5;124m\"\u001b[39m\u001b[38;5;124mJAVA_GATEWAY_EXITED\u001b[39m\u001b[38;5;124m\"\u001b[39m,\n\u001b[0;32m    109\u001b[0m         message_parameters\u001b[38;5;241m=\u001b[39m{},\n\u001b[0;32m    110\u001b[0m     )\n\u001b[0;32m    112\u001b[0m \u001b[38;5;28;01mwith\u001b[39;00m \u001b[38;5;28mopen\u001b[39m(conn_info_file, \u001b[38;5;124m\"\u001b[39m\u001b[38;5;124mrb\u001b[39m\u001b[38;5;124m\"\u001b[39m) \u001b[38;5;28;01mas\u001b[39;00m info:\n\u001b[0;32m    113\u001b[0m     gateway_port \u001b[38;5;241m=\u001b[39m read_int(info)\n",
            "\u001b[1;31mPySparkRuntimeError\u001b[0m: [JAVA_GATEWAY_EXITED] Java gateway process exited before sending its port number."
          ]
        }
      ],
      "source": [
        "!pip install findspark\n",
        "!pip install pyspark\n",
        "\n",
        "import findspark\n",
        "findspark.init()\n",
        "\n",
        "# Creating a SparkSession: A SparkSession is the entry point for using the PySpark DataFrame and SQL API.\n",
        "# To create a SparkSession, use the following code\n",
        "from pyspark.sql import SparkSession\n",
        "spark = SparkSession.builder.appName(\"PySpark 101 Exercises\").getOrCreate()\n",
        "\n",
        "# Get version details\n",
        "print(spark.version)"
      ]
    },
    {
      "cell_type": "markdown",
      "metadata": {
        "id": "nyIiBNc-GcwV"
      },
      "source": [
        "# **Inisialisasi Dataset**"
      ]
    },
    {
      "cell_type": "code",
      "execution_count": 2,
      "metadata": {
        "colab": {
          "base_uri": "https://localhost:8080/"
        },
        "id": "DL2PPS9uGj5N",
        "outputId": "68bc78cf-b775-4441-813d-f1cc6dcecb09"
      },
      "outputs": [
        {
          "name": "stdout",
          "output_type": "stream",
          "text": [
            "--2024-10-14 12:56:50--  http://files.grouplens.org/datasets/movielens/ml-100k.zip\n",
            "Resolving files.grouplens.org (files.grouplens.org)... 128.101.65.152\n",
            "Connecting to files.grouplens.org (files.grouplens.org)|128.101.65.152|:80... connected.\n",
            "HTTP request sent, awaiting response... 200 OK\n",
            "Length: 4924029 (4.7M) [application/zip]\n",
            "Saving to: ‘ml-100k.zip’\n",
            "\n",
            "ml-100k.zip         100%[===================>]   4.70M  19.8MB/s    in 0.2s    \n",
            "\n",
            "2024-10-14 12:56:50 (19.8 MB/s) - ‘ml-100k.zip’ saved [4924029/4924029]\n",
            "\n",
            "Archive:  ml-100k.zip\n",
            "   creating: ml-100k/\n",
            "  inflating: ml-100k/allbut.pl       \n",
            "  inflating: ml-100k/mku.sh          \n",
            "  inflating: ml-100k/README          \n",
            "  inflating: ml-100k/u.data          \n",
            "  inflating: ml-100k/u.genre         \n",
            "  inflating: ml-100k/u.info          \n",
            "  inflating: ml-100k/u.item          \n",
            "  inflating: ml-100k/u.occupation    \n",
            "  inflating: ml-100k/u.user          \n",
            "  inflating: ml-100k/u1.base         \n",
            "  inflating: ml-100k/u1.test         \n",
            "  inflating: ml-100k/u2.base         \n",
            "  inflating: ml-100k/u2.test         \n",
            "  inflating: ml-100k/u3.base         \n",
            "  inflating: ml-100k/u3.test         \n",
            "  inflating: ml-100k/u4.base         \n",
            "  inflating: ml-100k/u4.test         \n",
            "  inflating: ml-100k/u5.base         \n",
            "  inflating: ml-100k/u5.test         \n",
            "  inflating: ml-100k/ua.base         \n",
            "  inflating: ml-100k/ua.test         \n",
            "  inflating: ml-100k/ub.base         \n",
            "  inflating: ml-100k/ub.test         \n"
          ]
        }
      ],
      "source": [
        "!wget http://files.grouplens.org/datasets/movielens/ml-100k.zip\n",
        "!unzip ml-100k.zip"
      ]
    },
    {
      "cell_type": "code",
      "execution_count": 3,
      "metadata": {
        "id": "xXKyBmkkGt0-"
      },
      "outputs": [],
      "source": [
        "ratings_df = spark.read.csv(\"ml-100k/u.data\", sep=\"\\t\", header=None, schema=\"user_id INT, item_id INT, rating INT, timestamp INT\")\n",
        "movies_df = spark.read.csv(\"ml-100k/u.item\", sep=\"|\", header=None, encoding=\"ISO-8859-1\",\n",
        "                           schema=\"movie_id INT, movie_title STRING, release_date STRING, video_release_date STRING, imdb_url STRING, unknown INT, Action INT, Adventure INT, Animation INT, Children INT, Comedy INT, Crime INT, Documentary INT, Drama INT, Fantasy INT, FilmNoir INT, Horror INT, Musical INT, Mystery INT, Romance INT, SciFi INT, Thriller INT, War INT, Western INT\")\n"
      ]
    },
    {
      "cell_type": "markdown",
      "metadata": {
        "id": "nXh_wXzJEY_q"
      },
      "source": [
        "# **Soal Nomor 1**\n",
        "Hitung rata-rata rating untuk setiap film (MovieID). Urutkan hasilnya dari rating tertinggi ke terendah.\n",
        "\n",
        "**Pertanyaan**: Film mana yang memiliki rata-rata rating tertinggi? Berapa nilai rata-rata tersebut?"
      ]
    },
    {
      "cell_type": "code",
      "execution_count": 12,
      "metadata": {
        "colab": {
          "base_uri": "https://localhost:8080/"
        },
        "id": "BdppFy0wEjIe",
        "outputId": "4f3147cc-d141-4793-ae15-b04f3017f874"
      },
      "outputs": [
        {
          "name": "stdout",
          "output_type": "stream",
          "text": [
            "+--------------------+-----------------+\n",
            "|         movie_title|       avg_rating|\n",
            "+--------------------+-----------------+\n",
            "|Saint of Fort Was...|              5.0|\n",
            "|Entertaining Ange...|              5.0|\n",
            "|Santa with Muscle...|              5.0|\n",
            "|Marlene Dietrich:...|              5.0|\n",
            "|Someone Else's Am...|              5.0|\n",
            "|They Made Me a Cr...|              5.0|\n",
            "|  Prefontaine (1997)|              5.0|\n",
            "|     Star Kid (1997)|              5.0|\n",
            "|Aiqing wansui (1994)|              5.0|\n",
            "|Great Day in Harl...|              5.0|\n",
            "|Pather Panchali (...|            4.625|\n",
            "|Some Mother's Son...|              4.5|\n",
            "|         Anna (1996)|              4.5|\n",
            "|      Everest (1998)|              4.5|\n",
            "|Maya Lin: A Stron...|              4.5|\n",
            "|Close Shave, A (1...|4.491071428571429|\n",
            "|Schindler's List ...|4.466442953020135|\n",
            "|Wrong Trousers, T...|4.466101694915254|\n",
            "|   Casablanca (1942)| 4.45679012345679|\n",
            "|Wallace & Gromit:...|4.447761194029851|\n",
            "+--------------------+-----------------+\n",
            "only showing top 20 rows\n",
            "\n",
            "Film yang memiliki rata-rata rating tertinggi sebesar 5.0 adalah: \n",
            "+-------------------------------------------------+\n",
            "|movie_title                                      |\n",
            "+-------------------------------------------------+\n",
            "|Entertaining Angels: The Dorothy Day Story (1996)|\n",
            "|Santa with Muscles (1996)                        |\n",
            "|Marlene Dietrich: Shadow and Light (1996)        |\n",
            "|Someone Else's America (1995)                    |\n",
            "|They Made Me a Criminal (1939)                   |\n",
            "|Saint of Fort Washington, The (1993)             |\n",
            "|Prefontaine (1997)                               |\n",
            "|Star Kid (1997)                                  |\n",
            "|Aiqing wansui (1994)                             |\n",
            "|Great Day in Harlem, A (1994)                    |\n",
            "+-------------------------------------------------+\n",
            "\n"
          ]
        }
      ],
      "source": [
        "# Hitung rata-rata rating per film\n",
        "avg_ratings_df = ratings_df.groupBy(\"item_id\").agg({\"rating\": \"avg\"}).withColumnRenamed(\"avg(rating)\", \"avg_rating\")\n",
        "\n",
        "# Gabungkan dengan movie titles\n",
        "avg_ratings_df = avg_ratings_df.join(movies_df, avg_ratings_df.item_id == movies_df.movie_id).select(\"movie_title\", \"avg_rating\")\n",
        "\n",
        "# Urutkan dari rating tertinggi ke terendah\n",
        "avg_ratings_df.orderBy(\"avg_rating\", ascending=False).show(20)\n",
        "\n",
        "print(f\"Film yang memiliki rata-rata rating tertinggi sebesar 5.0 adalah: \")\n",
        "\n",
        "# Filter film yang memiliki rata-rata rating 5.0\n",
        "top_rated_5_df = avg_ratings_df.filter(avg_ratings_df.avg_rating == 5.0)\n",
        "\n",
        "# Tampilkan seluruh daftar film dengan rata-rata rating 5.0\n",
        "top_rated_5_df.select(\"movie_title\").show(truncate=False)\n"
      ]
    },
    {
      "cell_type": "markdown",
      "metadata": {
        "id": "Aja6HEUGI3iu"
      },
      "source": [
        "# **Soal Nomor 2**\n",
        "Hitung berapa kali setiap film diberi rating oleh pengguna.\n",
        "\n",
        "**Pertanyaan**: Film mana yang paling banyak menerima rating dari pengguna? Berapa kali film tersebut dirating?\n",
        "\n"
      ]
    },
    {
      "cell_type": "code",
      "execution_count": 15,
      "metadata": {
        "colab": {
          "base_uri": "https://localhost:8080/"
        },
        "id": "-WXS9nTmI-Dg",
        "outputId": "33a2097f-2dac-4c8b-f848-790418c03a36"
      },
      "outputs": [
        {
          "name": "stdout",
          "output_type": "stream",
          "text": [
            "Film dengan jumlah rating terbanyak adalah Star Wars (1977), dengan total 583 rating\n"
          ]
        }
      ],
      "source": [
        "# Hitung jumlah rating per film\n",
        "rating_counts_df = ratings_df.groupBy(\"item_id\").count().withColumnRenamed(\"count\", \"rating_count\")\n",
        "\n",
        "# Gabungkan dengan movie titles\n",
        "rating_counts_df = rating_counts_df.join(movies_df, rating_counts_df.item_id == movies_df.movie_id).select(\"movie_title\", \"rating_count\")\n",
        "\n",
        "# Urutkan dari jumlah rating terbanyak ke paling sedikit dan ambil film dengan jumlah rating terbanyak\n",
        "most_rated_movie = rating_counts_df.orderBy(\"rating_count\", ascending=False).first()\n",
        "\n",
        "# Tampilkan film dengan jumlah rating terbanyak dan jumlah ratingnya\n",
        "print(f\"Film dengan jumlah rating terbanyak adalah {most_rated_movie['movie_title']}, dengan total {most_rated_movie['rating_count']} rating\")\n"
      ]
    },
    {
      "cell_type": "markdown",
      "metadata": {
        "id": "Oub_1QzwJn1e"
      },
      "source": [
        "# **Soal Nomor 3**\n",
        "Analisis distribusi rating di seluruh dataset. Hitung berapa banyak rating yang memiliki nilai 1, 2, 3, 4, dan 5.\n",
        "\n",
        "**Pertanyaan**: Berapa banyak pengguna memberikan rating 5? Dan berapa banyak yang memberikan rating 1?"
      ]
    },
    {
      "cell_type": "code",
      "execution_count": 18,
      "metadata": {
        "colab": {
          "base_uri": "https://localhost:8080/",
          "height": 779
        },
        "id": "c6mazN3XJyTV",
        "outputId": "0565f2d0-02cc-4146-8c31-4ace68039f14"
      },
      "outputs": [
        {
          "data": {
            "image/png": "[encoded data removed]",
            "text/plain": [
              "<Figure size 800x600 with 1 Axes>"
            ]
          },
          "metadata": {},
          "output_type": "display_data"
        },
        {
          "name": "stdout",
          "output_type": "stream",
          "text": [
            "+------+------------+\n",
            "|rating|rating_count|\n",
            "+------+------------+\n",
            "|     1|        6110|\n",
            "|     2|       11370|\n",
            "|     3|       27145|\n",
            "|     4|       34174|\n",
            "|     5|       21201|\n",
            "+------+------------+\n",
            "\n",
            "Jumlah pengguna yang memberikan rating 5: 21201\n",
            "Jumlah pengguna yang memberikan rating 1: 6110\n"
          ]
        }
      ],
      "source": [
        "import pandas as pd\n",
        "import matplotlib.pyplot as plt\n",
        "\n",
        "# Konversi DataFrame PySpark ke Pandas DataFrame\n",
        "rating_distribution_pd = rating_distribution_df.toPandas()\n",
        "\n",
        "# Plot distribusi rating menggunakan Matplotlib\n",
        "plt.figure(figsize=(8,6))\n",
        "plt.bar(rating_distribution_pd['rating'], rating_distribution_pd['rating_count'], color='skyblue')\n",
        "\n",
        "# Tambahkan judul dan label sumbu\n",
        "plt.title(\"Distribusi Rating MovieLens 100k\", fontsize=16)\n",
        "plt.xlabel(\"Rating\", fontsize=14)\n",
        "plt.ylabel(\"Jumlah Rating\", fontsize=14)\n",
        "\n",
        "# Tampilkan plot\n",
        "plt.xticks([1, 2, 3, 4, 5])\n",
        "plt.show()\n",
        "\n",
        "\n",
        "# Hitung distribusi rating\n",
        "rating_distribution_df = ratings_df.groupBy(\"rating\").count().withColumnRenamed(\"count\", \"rating_count\")\n",
        "\n",
        "# Urutkan hasil distribusi rating\n",
        "rating_distribution_df = rating_distribution_df.orderBy(\"rating\")\n",
        "\n",
        "# Tampilkan distribusi rating\n",
        "rating_distribution_df.show()\n",
        "\n",
        "# Ambil jumlah pengguna yang memberikan rating 5 dan rating 1\n",
        "rating_5_count = rating_distribution_df.filter(rating_distribution_df.rating == 5).select(\"rating_count\").first()[\"rating_count\"]\n",
        "rating_1_count = rating_distribution_df.filter(rating_distribution_df.rating == 1).select(\"rating_count\").first()[\"rating_count\"]\n",
        "\n",
        "# Tampilkan hasilnya\n",
        "print(f\"Jumlah pengguna yang memberikan rating 5: {rating_5_count}\")\n",
        "print(f\"Jumlah pengguna yang memberikan rating 1: {rating_1_count}\")\n"
      ]
    },
    {
      "cell_type": "markdown",
      "metadata": {
        "id": "k3sk1VKsKaGy"
      },
      "source": [
        "# **Soal Nomor 4**\n",
        "Temukan pengguna (UserID) yang memberikan paling banyak rating.\n",
        "\n",
        "**Pertanyaan**: Siapakah pengguna paling aktif, dan berapa banyak rating yang telah diberikan?"
      ]
    },
    {
      "cell_type": "code",
      "execution_count": 24,
      "metadata": {
        "colab": {
          "base_uri": "https://localhost:8080/"
        },
        "id": "0Lml0c6RLcJt",
        "outputId": "24058a4f-e41b-47fd-ff0f-3f364a84eed6"
      },
      "outputs": [
        {
          "name": "stdout",
          "output_type": "stream",
          "text": [
            "Pengguna paling aktif: UserID 405, dengan 737 rating\n",
            "Detail Pengguna: \n",
            "- Gender: F\n",
            "- Usia: 22\n",
            "- Pekerjaan: healthcare\n"
          ]
        }
      ],
      "source": [
        "# Membaca data pengguna\n",
        "users_df = spark.read.csv(\"ml-100k/u.user\", sep=\"|\", header=None, encoding=\"ISO-8859-1\",\n",
        "                          schema=\"user_id INT, age INT, gender STRING, occupation STRING, zip_code STRING\")\n",
        "\n",
        "# Hitung jumlah rating yang diberikan oleh setiap pengguna\n",
        "user_rating_counts_df = ratings_df.groupBy(\"user_id\").count().withColumnRenamed(\"count\", \"rating_count\")\n",
        "\n",
        "# Urutkan dari jumlah rating terbanyak ke paling sedikit dan ambil pengguna paling aktif\n",
        "most_active_user = user_rating_counts_df.orderBy(\"rating_count\", ascending=False).first()\n",
        "\n",
        "# Ambil UserID pengguna paling aktif\n",
        "most_active_user_id = most_active_user[\"user_id\"]\n",
        "\n",
        "# Gabungkan dengan data pengguna untuk mendapatkan detail lainnya\n",
        "user_details = users_df.filter(users_df.user_id == most_active_user_id).first()\n",
        "\n",
        "# Tampilkan detail pengguna paling aktif\n",
        "print(f\"Pengguna paling aktif: UserID {most_active_user_id}, dengan {most_active_user['rating_count']} rating\")\n",
        "print(f\"Detail Pengguna: \")\n",
        "print(f\"- Gender: {user_details['gender']}\")\n",
        "print(f\"- Usia: {user_details['age']}\")\n",
        "print(f\"- Pekerjaan: {user_details['occupation']}\")\n"
      ]
    },
    {
      "cell_type": "markdown",
      "metadata": {
        "id": "YmoBFJAWOAJV"
      },
      "source": [
        "# **ANALISIS RATING BERDASARKAN FILM**"
      ]
    },
    {
      "cell_type": "markdown",
      "metadata": {
        "id": "ytHYloYBOEAA"
      },
      "source": [
        "# **Soal Nomor 1**\n",
        "Berdasarkan jumlah rating yang diterima, tampilkan 10 film yang paling populer.\n",
        "\n",
        "**Pertanyaan**: Sebutkan 10 film dengan jumlah rating terbanyak."
      ]
    },
    {
      "cell_type": "code",
      "execution_count": 26,
      "metadata": {
        "colab": {
          "base_uri": "https://localhost:8080/"
        },
        "id": "LiE3yd6fOC8z",
        "outputId": "318e987e-bba3-41d0-a486-397dc7048e67"
      },
      "outputs": [
        {
          "name": "stdout",
          "output_type": "stream",
          "text": [
            "Film terpopuler dengan jumlah rating terbanyak adalah:\n",
            "+--------------------+------------+\n",
            "|         movie_title|rating_count|\n",
            "+--------------------+------------+\n",
            "|    Star Wars (1977)|         583|\n",
            "|      Contact (1997)|         509|\n",
            "|        Fargo (1996)|         508|\n",
            "|Return of the Jed...|         507|\n",
            "|    Liar Liar (1997)|         485|\n",
            "|English Patient, ...|         481|\n",
            "|       Scream (1996)|         478|\n",
            "|    Toy Story (1995)|         452|\n",
            "|Air Force One (1997)|         431|\n",
            "|Independence Day ...|         429|\n",
            "+--------------------+------------+\n",
            "\n"
          ]
        }
      ],
      "source": [
        "# Hitung jumlah rating yang diterima setiap film\n",
        "popular_movies_df = ratings_df.groupBy(\"item_id\").count().withColumnRenamed(\"count\", \"rating_count\")\n",
        "\n",
        "# Gabungkan dengan judul film\n",
        "popular_movies_df = popular_movies_df.join(movies_df, popular_movies_df.item_id == movies_df.movie_id) \\\n",
        "    .select(\"movie_title\", \"rating_count\")\n",
        "\n",
        "# Urutkan berdasarkan jumlah rating dari yang terbanyak dan ambil 10 film teratas\n",
        "top_10_popular_movies = popular_movies_df.orderBy(\"rating_count\", ascending=False).limit(10)\n",
        "\n",
        "print(f\"Film terpopuler dengan jumlah rating terbanyak adalah:\")\n",
        "\n",
        "# Tampilkan hasilnya\n",
        "top_10_popular_movies.show()\n"
      ]
    },
    {
      "cell_type": "markdown",
      "metadata": {
        "id": "qPhxBf4NPTx4"
      },
      "source": [
        "# **Soal Nomor 2**\n",
        "Tampilkan 10 film dengan rating rata-rata tertinggi (film yang paling disukai).\n",
        "\n",
        "**Pertanyaan**: Sebutkan 10 film dengan rating tertinggi, dan berapa rata-rata ratingnya?"
      ]
    },
    {
      "cell_type": "code",
      "execution_count": 28,
      "metadata": {
        "colab": {
          "base_uri": "https://localhost:8080/"
        },
        "id": "p9Mw_oHkPYaY",
        "outputId": "d5ba17df-127c-442b-f0d9-f41acf2cf664"
      },
      "outputs": [
        {
          "name": "stdout",
          "output_type": "stream",
          "text": [
            "+--------------------+-----------------+\n",
            "|         movie_title|       avg_rating|\n",
            "+--------------------+-----------------+\n",
            "|Saint of Fort Was...|              5.0|\n",
            "|Entertaining Ange...|              5.0|\n",
            "|Santa with Muscle...|              5.0|\n",
            "|Marlene Dietrich:...|              5.0|\n",
            "|Someone Else's Am...|              5.0|\n",
            "|They Made Me a Cr...|              5.0|\n",
            "|  Prefontaine (1997)|              5.0|\n",
            "|     Star Kid (1997)|              5.0|\n",
            "|Aiqing wansui (1994)|              5.0|\n",
            "|Great Day in Harl...|              5.0|\n",
            "|Pather Panchali (...|            4.625|\n",
            "|Some Mother's Son...|              4.5|\n",
            "|         Anna (1996)|              4.5|\n",
            "|      Everest (1998)|              4.5|\n",
            "|Maya Lin: A Stron...|              4.5|\n",
            "|Close Shave, A (1...|4.491071428571429|\n",
            "|Schindler's List ...|4.466442953020135|\n",
            "|Wrong Trousers, T...|4.466101694915254|\n",
            "|   Casablanca (1942)| 4.45679012345679|\n",
            "|Wallace & Gromit:...|4.447761194029851|\n",
            "+--------------------+-----------------+\n",
            "only showing top 20 rows\n",
            "\n",
            "10 Film yang memiliki rata-rata rating tertinggi sebesar 5.0 adalah: \n",
            "+-------------------------------------------------+\n",
            "|movie_title                                      |\n",
            "+-------------------------------------------------+\n",
            "|Entertaining Angels: The Dorothy Day Story (1996)|\n",
            "|Santa with Muscles (1996)                        |\n",
            "|Marlene Dietrich: Shadow and Light (1996)        |\n",
            "|Someone Else's America (1995)                    |\n",
            "|They Made Me a Criminal (1939)                   |\n",
            "|Saint of Fort Washington, The (1993)             |\n",
            "|Prefontaine (1997)                               |\n",
            "|Star Kid (1997)                                  |\n",
            "|Aiqing wansui (1994)                             |\n",
            "|Great Day in Harlem, A (1994)                    |\n",
            "+-------------------------------------------------+\n",
            "\n"
          ]
        }
      ],
      "source": [
        "# Hitung rata-rata rating per film\n",
        "avg_ratings_df = ratings_df.groupBy(\"item_id\").agg({\"rating\": \"avg\"}).withColumnRenamed(\"avg(rating)\", \"avg_rating\")\n",
        "\n",
        "# Gabungkan dengan movie titles\n",
        "avg_ratings_df = avg_ratings_df.join(movies_df, avg_ratings_df.item_id == movies_df.movie_id).select(\"movie_title\", \"avg_rating\")\n",
        "\n",
        "# Urutkan dari rating tertinggi ke terendah\n",
        "avg_ratings_df.orderBy(\"avg_rating\", ascending=False).show(20)\n",
        "\n",
        "print(f\"10 Film yang memiliki rata-rata rating tertinggi sebesar 5.0 adalah: \")\n",
        "\n",
        "# Filter film yang memiliki rata-rata rating 5.0\n",
        "top_rated_5_df = avg_ratings_df.filter(avg_ratings_df.avg_rating == 5.0)\n",
        "\n",
        "# Tampilkan seluruh daftar film dengan rata-rata rating 5.0\n",
        "top_rated_5_df.select(\"movie_title\").show(truncate=False)\n"
      ]
    },
    {
      "cell_type": "markdown",
      "metadata": {
        "id": "HLSvAoc9P8Vm"
      },
      "source": [
        "# **Soal Nomor 3**\n",
        "Temukan film yang hanya mendapatkan satu rating.\n",
        "\n",
        "**Pertanyaan**: Berapa banyak film yang hanya mendapat satu rating?"
      ]
    },
    {
      "cell_type": "code",
      "execution_count": 31,
      "metadata": {
        "colab": {
          "base_uri": "https://localhost:8080/"
        },
        "id": "p5v5RRvYP_lY",
        "outputId": "000c1977-fa29-49c4-f69b-5a5675aecb23"
      },
      "outputs": [
        {
          "name": "stdout",
          "output_type": "stream",
          "text": [
            "Jumlah film yang hanya mendapatkan satu rating: 141\n",
            "+--------------------+\n",
            "|         movie_title|\n",
            "+--------------------+\n",
            "|     Liebelei (1933)|\n",
            "|Butcher Boy, The ...|\n",
            "|Three Lives and O...|\n",
            "|    Sleepover (1995)|\n",
            "|Stefano Quantesto...|\n",
            "|Butcher Boy, The ...|\n",
            "|King of New York ...|\n",
            "|Shadow of Angels ...|\n",
            "|Paris Was a Woman...|\n",
            "|I Don't Want to T...|\n",
            "|Entertaining Ange...|\n",
            "|Tigrero: A Film T...|\n",
            "|Object of My Affe...|\n",
            "|Sunchaser, The (1...|\n",
            "|     Power 98 (1995)|\n",
            "|Marlene Dietrich:...|\n",
            "| Mad Dog Time (1996)|\n",
            "|Butterfly Kiss (1...|\n",
            "|        Cyclo (1995)|\n",
            "|Pharaoh's Army (1...|\n",
            "+--------------------+\n",
            "only showing top 20 rows\n",
            "\n"
          ]
        }
      ],
      "source": [
        "# Hitung jumlah rating yang diterima setiap film\n",
        "single_rating_movies_df = ratings_df.groupBy(\"item_id\").count().withColumnRenamed(\"count\", \"rating_count\")\n",
        "\n",
        "# Filter film yang hanya mendapatkan satu rating\n",
        "single_rating_movies = single_rating_movies_df.filter(single_rating_movies_df.rating_count == 1)\n",
        "\n",
        "# Gabungkan dengan judul film\n",
        "single_rating_movies_with_titles = single_rating_movies.join(movies_df, single_rating_movies.item_id == movies_df.movie_id) \\\n",
        "    .select(\"movie_title\")\n",
        "\n",
        "print(f\"Jumlah film yang hanya mendapatkan satu rating: {single_rating_movies_count}\")\n",
        "\n",
        "# Tampilkan hasil\n",
        "single_rating_movies_with_titles.show()\n"
      ]
    }
  ],
  "metadata": {
    "colab": {
      "provenance": []
    },
    "kernelspec": {
      "display_name": "Python 3",
      "name": "python3"
    },
    "language_info": {
      "codemirror_mode": {
        "name": "ipython",
        "version": 3
      },
      "file_extension": ".py",
      "mimetype": "text/x-python",
      "name": "python",
      "nbconvert_exporter": "python",
      "pygments_lexer": "ipython3",
      "version": "3.10.5"
    }
  },
  "nbformat": 4,
  "nbformat_minor": 0
}
